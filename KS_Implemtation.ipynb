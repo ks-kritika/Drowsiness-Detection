{
 "cells": [
  {
   "cell_type": "markdown",
   "id": "8d0a8ce3",
   "metadata": {},
   "source": [
    "Checking for Predictions"
   ]
  },
  {
   "cell_type": "code",
   "execution_count": null,
   "id": "92736e8b",
   "metadata": {},
   "outputs": [],
   "source": [
    "import tensorflow as tf\n",
    "import cv2\n",
    "import os\n",
    "import matplotlib.pyplot as plt\n",
    "import numpy as np"
   ]
  },
  {
   "cell_type": "code",
   "execution_count": null,
   "id": "62a4102d",
   "metadata": {},
   "outputs": [],
   "source": [
    "from keras.models import load_model\n",
    "model = load_model('my_model_Drowsiness.h5')"
   ]
  },
  {
   "cell_type": "code",
   "execution_count": null,
   "id": "f419324e",
   "metadata": {},
   "outputs": [],
   "source": [
    "img_size = 224"
   ]
  },
  {
   "cell_type": "code",
   "execution_count": null,
   "id": "f33323fa",
   "metadata": {},
   "outputs": [],
   "source": [
    "img_array = cv2.imread('_129.jpg', cv2.IMREAD_GRAYSCALE)\n",
    "backtorgb = cv2.cvtColor(img_array, cv2.COLOR_GRAY2RGB)\n",
    "new_array = cv2.resize(backtorgb, (img_size, img_size))"
   ]
  },
  {
   "cell_type": "code",
   "execution_count": null,
   "id": "09d14e17",
   "metadata": {},
   "outputs": [],
   "source": [
    "X_input=np.array(new_array).reshape(1, img_size, img_size, 3)"
   ]
  },
  {
   "cell_type": "code",
   "execution_count": null,
   "id": "a020b9ab",
   "metadata": {},
   "outputs": [],
   "source": [
    "plt.imshow(new_array)"
   ]
  },
  {
   "cell_type": "code",
   "execution_count": null,
   "id": "eb6561d2",
   "metadata": {},
   "outputs": [],
   "source": [
    "X_input=X_input/255.0"
   ]
  },
  {
   "cell_type": "code",
   "execution_count": null,
   "id": "06e35a01",
   "metadata": {},
   "outputs": [],
   "source": [
    "prediction1 = model.predict(X_input)"
   ]
  },
  {
   "cell_type": "code",
   "execution_count": null,
   "id": "57d0ef36",
   "metadata": {},
   "outputs": [],
   "source": [
    "prediction1                            #negative = eyes closed , #positive = eyes open"
   ]
  },
  {
   "cell_type": "code",
   "execution_count": null,
   "id": "ead4b082",
   "metadata": {},
   "outputs": [],
   "source": [
    "print(\"Eyes Open = \", prediction1 > 0)"
   ]
  },
  {
   "cell_type": "markdown",
   "id": "6a75a3ac",
   "metadata": {},
   "source": [
    "Checking on unknown images"
   ]
  },
  {
   "cell_type": "code",
   "execution_count": null,
   "id": "f5d19b58",
   "metadata": {},
   "outputs": [],
   "source": [
    "img = cv2.imread('womn.jpg')"
   ]
  },
  {
   "cell_type": "code",
   "execution_count": null,
   "id": "940eb3a2",
   "metadata": {},
   "outputs": [],
   "source": [
    "plt.imshow(cv2.cvtColor(img, cv2.COLOR_BGR2RGB))"
   ]
  },
  {
   "cell_type": "code",
   "execution_count": null,
   "id": "f05d2668",
   "metadata": {},
   "outputs": [],
   "source": [
    "facecascade = cv2.CascadeClassifier(cv2.data.haarcascades + 'haarcascade_frontalface_default.xml')"
   ]
  },
  {
   "cell_type": "code",
   "execution_count": null,
   "id": "328fb62b",
   "metadata": {},
   "outputs": [],
   "source": [
    "eye_cascade = cv2.CascadeClassifier(cv2.data.haarcascades + 'haarcascade_eye.xml')"
   ]
  },
  {
   "cell_type": "code",
   "execution_count": null,
   "id": "8de1bdf5",
   "metadata": {},
   "outputs": [],
   "source": [
    "gray = cv2.cvtColor(img, cv2.COLOR_BGR2GRAY)"
   ]
  },
  {
   "cell_type": "code",
   "execution_count": null,
   "id": "87f5e86f",
   "metadata": {},
   "outputs": [],
   "source": [
    "eyes = eye_cascade.detectMultiScale(gray, 1.1, 4)"
   ]
  },
  {
   "cell_type": "code",
   "execution_count": null,
   "id": "0066011d",
   "metadata": {},
   "outputs": [],
   "source": [
    "for(x, y, w, h) in eyes:\n",
    "    cv2.rectangle(img, (x,y), (x+w, y+h), (0, 255, 0), 2)"
   ]
  },
  {
   "cell_type": "code",
   "execution_count": null,
   "id": "cc30c8fa",
   "metadata": {},
   "outputs": [],
   "source": [
    "plt.imshow(cv2.cvtColor(img, cv2.COLOR_BGR2RGB))"
   ]
  },
  {
   "cell_type": "markdown",
   "id": "9f3763be",
   "metadata": {},
   "source": [
    "Cropping the eye image"
   ]
  },
  {
   "cell_type": "code",
   "execution_count": null,
   "id": "1deaa582",
   "metadata": {},
   "outputs": [],
   "source": [
    "eye_cascade = cv2.CascadeClassifier(cv2.data.haarcascades + 'haarcascade_eye.xml')\n",
    "gray = cv2.cvtColor(img, cv2.COLOR_BGR2GRAY)\n",
    "        #print(faceCascade.empty())\n",
    "eyes = eye_cascade.detectMultiScale(gray, 1.1, 4)\n",
    "for(x, y, w, h) in eyes:\n",
    "        roi_gray = gray[y:y+h, x:x+w]\n",
    "        roi_color = img[y:y+h, x:x+w]\n",
    "        eyess = eye_cascade.detectMultiScale(roi_gray)\n",
    "        if len(eyess) == 0:\n",
    "            print('Eyes are not detected')\n",
    "        else:\n",
    "            for (ex, ey, ew, eh) in eyess:\n",
    "                eyes_roi = roi_color[ey:ey+eh, ex:ex+ew]"
   ]
  },
  {
   "cell_type": "code",
   "execution_count": null,
   "id": "2cb48ec1",
   "metadata": {},
   "outputs": [],
   "source": [
    "plt.imshow(cv2.cvtColor(eyes_roi, cv2.COLOR_BGR2RGB))"
   ]
  },
  {
   "cell_type": "code",
   "execution_count": null,
   "id": "fad7a1cc",
   "metadata": {},
   "outputs": [],
   "source": [
    "eyes_roi.shape"
   ]
  },
  {
   "cell_type": "code",
   "execution_count": null,
   "id": "6d0361c0",
   "metadata": {},
   "outputs": [],
   "source": [
    "final_image = cv2.resize(eyes_roi, (224, 224))\n",
    "final_image = np.expand_dims(final_image, axis=0)    ##need fourth dimension\n",
    "final_image = final_image/255.0"
   ]
  },
  {
   "cell_type": "code",
   "execution_count": null,
   "id": "29f6e0fc",
   "metadata": {},
   "outputs": [],
   "source": [
    "final_image.shape"
   ]
  },
  {
   "cell_type": "code",
   "execution_count": null,
   "id": "3ca4a564",
   "metadata": {},
   "outputs": [],
   "source": [
    "prediction2 = model.predict(final_image)\n",
    "prediction2                                                                                                       # array([[1.6677274]])"
   ]
  },
  {
   "cell_type": "code",
   "execution_count": null,
   "id": "c1a16bb4",
   "metadata": {},
   "outputs": [],
   "source": [
    "print(\"Eyes Open = \", prediction2 > 0)"
   ]
  },
  {
   "cell_type": "markdown",
   "id": "9d99ab4f",
   "metadata": {},
   "source": [
    "Realtime Video Demo"
   ]
  },
  {
   "cell_type": "markdown",
   "id": "51d81e2d",
   "metadata": {},
   "source": [
    "First Detect that eyes are closed or open"
   ]
  },
  {
   "cell_type": "code",
   "execution_count": null,
   "id": "349a55dc",
   "metadata": {},
   "outputs": [],
   "source": [
    "pip install deepface"
   ]
  },
  {
   "cell_type": "code",
   "execution_count": null,
   "id": "d2e744d8",
   "metadata": {},
   "outputs": [],
   "source": [
    "from deepface import DeepFace\n",
    "import cv2"
   ]
  },
  {
   "cell_type": "code",
   "execution_count": null,
   "id": "11869798",
   "metadata": {},
   "outputs": [],
   "source": [
    "path = \"haarcascade_frontalface_default.xml\"\n",
    "faceCascade = cv2.CascadeClassifier(cv2.data.haarcascades + 'haarcascade_eye.xml')"
   ]
  },
  {
   "cell_type": "code",
   "execution_count": null,
   "id": "57acc8b0",
   "metadata": {},
   "outputs": [],
   "source": [
    "#infinte loop to capture frame\n",
    "cap = cv2.VideoCapture(1)\n",
    "\n",
    "# Check if webcam is open correctly\n",
    "if not cap.isOpened():\n",
    "    cap = cv2.VideoCapture(0)\n",
    "if not cap.isOpened():\n",
    "    raise IPError(\"Cannot open Webcam\")"
   ]
  },
  {
   "cell_type": "code",
   "execution_count": null,
   "id": "f769c015",
   "metadata": {},
   "outputs": [],
   "source": [
    "while True:\n",
    "    ret,frame = cap.read()\n",
    "    eye_cascade = cv2.CascadeClassifier(cv2.data.haarcascades + \"haarcascade_eye.xml\")\n",
    "    gray = cv2.cvtColor(frame, cv2.COLOR_BGR2GRAY)\n",
    "    #print(faceCascade.empty())\n",
    "    eyes = eye_cascade.detectMultiScale(gray, 1.1, 4)\n",
    "    for x,y,w,h in eyes:\n",
    "        roi_gray = gray[y:y+h, x:x+w]\n",
    "        roi_color = img[y:y+h, x:x+w]\n",
    "        cv2.rectangle(img, (x,y), (x+w, y+h), (0, 255, 0), 2)\n",
    "        eyess = eye_cascade.detectMultiScale(roi_gray)\n",
    "        if len(eyess) == 0:\n",
    "            print('Eyes are not detected')\n",
    "        else:\n",
    "            for (ex, ey, ew, eh) in eyess:\n",
    "                eyes_roi = roi_color[ey:ey+eh, ex:ex+ew]        \n",
    "                \n",
    "    final_image = cv2.resize(eyes_roi, (224, 224))\n",
    "    final_image = np.expand_dims(final_image, axis=0)    ##need fourth dimension\n",
    "    final_image = final_image/255.0\n",
    "    \n",
    "    prediction3 = model.predict(final_image)\n",
    "    if (prediction3 > 0):\n",
    "        status = 'Open Eyes'\n",
    "    else:\n",
    "        status = 'Closed Eyes'\n",
    "        \n",
    "    gray = cv2.cvtColor(img, cv2.COLOR_BGR2GRAY)\n",
    "    print(faceCascade.empty())\n",
    "    faces = faceCascade.detectMultiScale(gray, 1.1, 4)\n",
    "    \n",
    "    # Draw a rectangle around the faces\n",
    "    for(x, y, w, h) in eyes:\n",
    "        cv2.rectangle(img, (x,y), (x+w, y+h), (0, 255, 0), 2)\n",
    "        \n",
    "    font = cv2.FONT_HERSHEY_SIMPLEX\n",
    "    \n",
    "    # Use putText() Method for inserting text on video\n",
    "    cv2.putText(frame,status,(50,50), font, 3, (0, 0, 255), 2, cv2.LINE_4)\n",
    "    \n",
    "    cv2.imshow('tutorial', frame)\n",
    "    \n",
    "    if cv2.waitKey(2) & 0xFF == ord('q'):\n",
    "        break\n",
    "cap.release()\n",
    "cv2.destroyAllWindows()   "
   ]
  },
  {
   "cell_type": "markdown",
   "id": "d444882b",
   "metadata": {},
   "source": [
    "if eyes are closed for unusual time, alarm generated"
   ]
  },
  {
   "cell_type": "code",
   "execution_count": null,
   "id": "efaf188c",
   "metadata": {},
   "outputs": [],
   "source": [
    "while True:\n",
    "    ret,frame = cap.read()\n",
    "    eye_cascade = cv2.CascadeClassifier(cv2.data.haarcascades + \"haarcascade_eye.xml\")\n",
    "    gray = cv2.cvtColor(frame, cv2.COLOR_BGR2GRAY)\n",
    "    #print(faceCascade.empty())\n",
    "    eyes = eye_cascade.detectMultiScale(gray, 1.1, 4)\n",
    "    for x,y,w,h in eyes:\n",
    "        roi_gray = gray[y:y+h, x:x+w]\n",
    "        roi_color = img[y:y+h, x:x+w]\n",
    "        cv2.rectangle(img, (x,y), (x+w, y+h), (0, 255, 0), 2)\n",
    "        eyess = eye_cascade.detectMultiScale(roi_gray)\n",
    "        if len(eyess) == 0:\n",
    "            print('Eyes are not detected')\n",
    "        else:\n",
    "            for (ex, ey, ew, eh) in eyess:\n",
    "                eyes_roi = roi_color[ey:ey+eh, ex:ex+ew]        \n",
    "                \n",
    "    final_image = cv2.resize(eyes_roi, (224, 224))\n",
    "    final_image = np.expand_dims(final_image, axis=0)    ##need fourth dimension\n",
    "    final_image = final_image/255.0\n",
    "    \n",
    "    prediction3 = model.predict(final_image)\n",
    "    if (prediction3 > 0):\n",
    "        status = 'Open Eyes'\n",
    "        cv2.putText(frame,status,(150,150), font, 3, (0, 255, 0), 2, cv2.LINE_4)\n",
    "        \n",
    "        x1, y1, w1, h1 = 0,0,175,75\n",
    "        #draw black background rectangle\n",
    "        \n",
    "        cv2.rectangle(frame, (x1, x1), (x1 + w1, y1 + h1), (0,0,0), -1)\n",
    "        #add text\n",
    "        cv2.putText(frame, 'Active', (x1 + int(w1/10), y1 + int(h1/2)), cv2.FONT_HERSHEY_SIMPLEX, 0.7, (0, 255, 0), 2)\n",
    "    else:\n",
    "        counter = counter +1\n",
    "        status = 'Closed Eyes'\n",
    "        cv2.putText(frame,status,(150,150), font, 3, (0, 0, 255), 2, cv2.LINE_4)\n",
    "        cv2.rectangle(frame, (x, y), (x + w, y + h), (0,0,255), 2)\n",
    "        if counters>5:\n",
    "            x1, y1, w1, h1 = 0, 0 ,175,75\n",
    "         #draw black background rectangle\n",
    "        cv2.rectangle(frame, (x1, x1), (x1 + w1, y1 + h1), (0,0,0), -1)  \n",
    "        #add text\n",
    "        cv2.putText(frame, 'Sleep Alert!', (x1 + int(w1/10), y1 + int(h1/2)), cv2.FONT_HERSHEY_SIMPLEX, 0.7, (0, 255, 0), 2)\n",
    "        windsound.Beep(frequency, duration)\n",
    "        counter = 0\n",
    "    \n",
    "\n",
    "    \n",
    "    cv2.imshow('tutorial', frame)\n",
    "    \n",
    "    if cv2.waitKey(2) & 0xFF == ord('q'):\n",
    "        break\n",
    "cap.release()\n",
    "cv2.destroyAllWindows()"
   ]
  },
  {
   "cell_type": "code",
   "execution_count": null,
   "id": "52888bf1",
   "metadata": {},
   "outputs": [],
   "source": []
  },
  {
   "cell_type": "code",
   "execution_count": null,
   "id": "edeeddc5",
   "metadata": {},
   "outputs": [],
   "source": []
  },
  {
   "cell_type": "code",
   "execution_count": null,
   "id": "e48ce3e8",
   "metadata": {},
   "outputs": [],
   "source": []
  },
  {
   "cell_type": "code",
   "execution_count": null,
   "id": "b34ac461",
   "metadata": {},
   "outputs": [],
   "source": []
  },
  {
   "cell_type": "code",
   "execution_count": null,
   "id": "bbaf19aa",
   "metadata": {},
   "outputs": [],
   "source": []
  },
  {
   "cell_type": "code",
   "execution_count": null,
   "id": "0ed445e3",
   "metadata": {},
   "outputs": [],
   "source": []
  }
 ],
 "metadata": {
  "kernelspec": {
   "display_name": "Python 3",
   "language": "python",
   "name": "python3"
  },
  "language_info": {
   "codemirror_mode": {
    "name": "ipython",
    "version": 3
   },
   "file_extension": ".py",
   "mimetype": "text/x-python",
   "name": "python",
   "nbconvert_exporter": "python",
   "pygments_lexer": "ipython3",
   "version": "3.9.6"
  }
 },
 "nbformat": 4,
 "nbformat_minor": 5
}
